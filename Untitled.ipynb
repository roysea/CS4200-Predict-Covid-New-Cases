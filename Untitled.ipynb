{
 "cells": [
  {
   "cell_type": "markdown",
   "id": "0beb3ae8",
   "metadata": {},
   "source": [
    "# Covid-19 New Case Predictor \n",
    "### Using Neural Network with four input: Date, State, New Cases,  New Deaths, Fully Vaccinated \n",
    "-----------------------------------------------\n",
    "by Roya Salei\n",
    "\n",
    "Course CS4200- Artificial Intelligence \n",
    "\n",
    "Professor: Dr. Husain Zaidi"
   ]
  },
  {
   "cell_type": "code",
   "execution_count": null,
   "id": "d2b9f8c5",
   "metadata": {},
   "outputs": [],
   "source": []
  }
 ],
 "metadata": {
  "kernelspec": {
   "display_name": "Python 3",
   "language": "python",
   "name": "python3"
  },
  "language_info": {
   "codemirror_mode": {
    "name": "ipython",
    "version": 3
   },
   "file_extension": ".py",
   "mimetype": "text/x-python",
   "name": "python",
   "nbconvert_exporter": "python",
   "pygments_lexer": "ipython3",
   "version": "3.6.6"
  }
 },
 "nbformat": 4,
 "nbformat_minor": 5
}
